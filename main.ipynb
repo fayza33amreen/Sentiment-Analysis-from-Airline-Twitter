{
 "cells": [
  {
   "cell_type": "markdown",
   "metadata": {},
   "source": [
    "Import the necessary libraries"
   ]
  },
  {
   "cell_type": "code",
   "execution_count": 1,
   "metadata": {},
   "outputs": [],
   "source": [
    "import numpy as np\n",
    "import pandas as pd\n",
    "import matplotlib.pyplot as plt\n",
    "from sklearn.model_selection import train_test_split\n",
    "%matplotlib inline\n",
    "from sklearn.metrics import roc_curve\n",
    "from sklearn import metrics\n",
    "import re\n",
    "import os\n",
    "from keras.models import Sequential, load_model\n",
    "from keras.layers import LSTM, Dense, Embedding, Dropout , Bidirectional\n",
    "from keras.preprocessing.text import Tokenizer\n",
    "from keras_preprocessing.sequence import pad_sequences\n",
    "from tensorflow.keras.utils import plot_model\n",
    "from tensorflow.keras.callbacks import EarlyStopping, ModelCheckpoint\n",
    "from sklearn.metrics import roc_auc_score\n",
    "from sklearn.metrics import confusion_matrix\n",
    "import seaborn as sns\n",
    "from sklearn.metrics import classification_report\n",
    "from sklearn.metrics import accuracy_score, precision_score, recall_score, f1_score\n",
    "import numpy\n",
    "from matplotlib import pyplot\n",
    "from keras.regularizers import l2\n"
   ]
  },
  {
   "cell_type": "code",
   "execution_count": 2,
   "metadata": {
    "scrolled": true
   },
   "outputs": [
    {
     "data": {
      "text/html": [
       "<div>\n",
       "<style scoped>\n",
       "    .dataframe tbody tr th:only-of-type {\n",
       "        vertical-align: middle;\n",
       "    }\n",
       "\n",
       "    .dataframe tbody tr th {\n",
       "        vertical-align: top;\n",
       "    }\n",
       "\n",
       "    .dataframe thead th {\n",
       "        text-align: right;\n",
       "    }\n",
       "</style>\n",
       "<table border=\"1\" class=\"dataframe\">\n",
       "  <thead>\n",
       "    <tr style=\"text-align: right;\">\n",
       "      <th></th>\n",
       "      <th>tweet_id</th>\n",
       "      <th>airline_sentiment</th>\n",
       "      <th>airline_sentiment_confidence</th>\n",
       "      <th>negativereason</th>\n",
       "      <th>negativereason_confidence</th>\n",
       "      <th>airline</th>\n",
       "      <th>text</th>\n",
       "      <th>airline_sentiment_gold</th>\n",
       "      <th>name</th>\n",
       "      <th>negativereason_gold</th>\n",
       "      <th>retweet_count</th>\n",
       "      <th>tweet_coord</th>\n",
       "      <th>tweet_created</th>\n",
       "      <th>tweet_location</th>\n",
       "      <th>user_timezone</th>\n",
       "    </tr>\n",
       "  </thead>\n",
       "  <tbody>\n",
       "    <tr>\n",
       "      <th>0</th>\n",
       "      <td>567778000000000000</td>\n",
       "      <td>neutral</td>\n",
       "      <td>1.0</td>\n",
       "      <td>NaN</td>\n",
       "      <td>NaN</td>\n",
       "      <td>Southwest</td>\n",
       "      <td>@SouthwestAir what does TSA Pre on my boarding...</td>\n",
       "      <td>NaN</td>\n",
       "      <td>Jewelzz_</td>\n",
       "      <td>NaN</td>\n",
       "      <td>0</td>\n",
       "      <td>NaN</td>\n",
       "      <td>17/2/2015 12:08</td>\n",
       "      <td>TX</td>\n",
       "      <td>America/Chicago</td>\n",
       "    </tr>\n",
       "    <tr>\n",
       "      <th>1</th>\n",
       "      <td>568644000000000000</td>\n",
       "      <td>negative</td>\n",
       "      <td>1.0</td>\n",
       "      <td>Late Flight</td>\n",
       "      <td>0.7065</td>\n",
       "      <td>US Airways</td>\n",
       "      <td>@USAirways I have been on three planes for fli...</td>\n",
       "      <td>NaN</td>\n",
       "      <td>CourtneyEMcCoy</td>\n",
       "      <td>NaN</td>\n",
       "      <td>0</td>\n",
       "      <td>NaN</td>\n",
       "      <td>19/2/2015 21:31</td>\n",
       "      <td>Williamson West Virginia</td>\n",
       "      <td>Eastern Time (US &amp; Canada)</td>\n",
       "    </tr>\n",
       "    <tr>\n",
       "      <th>2</th>\n",
       "      <td>570108000000000000</td>\n",
       "      <td>negative</td>\n",
       "      <td>1.0</td>\n",
       "      <td>Late Flight</td>\n",
       "      <td>0.6405</td>\n",
       "      <td>US Airways</td>\n",
       "      <td>@USAirways yes it landed at 11:40am. Should no...</td>\n",
       "      <td>NaN</td>\n",
       "      <td>jakenemmasmom</td>\n",
       "      <td>NaN</td>\n",
       "      <td>0</td>\n",
       "      <td>NaN</td>\n",
       "      <td>23/2/2015 22:30</td>\n",
       "      <td>NaN</td>\n",
       "      <td>NaN</td>\n",
       "    </tr>\n",
       "    <tr>\n",
       "      <th>3</th>\n",
       "      <td>568219000000000000</td>\n",
       "      <td>negative</td>\n",
       "      <td>1.0</td>\n",
       "      <td>Lost Luggage</td>\n",
       "      <td>1.0000</td>\n",
       "      <td>US Airways</td>\n",
       "      <td>@USAirways being told 'tough break and this is...</td>\n",
       "      <td>NaN</td>\n",
       "      <td>scheds14</td>\n",
       "      <td>NaN</td>\n",
       "      <td>0</td>\n",
       "      <td>NaN</td>\n",
       "      <td>18/2/2015 17:21</td>\n",
       "      <td>Phoenix, AZ</td>\n",
       "      <td>NaN</td>\n",
       "    </tr>\n",
       "    <tr>\n",
       "      <th>4</th>\n",
       "      <td>570209000000000000</td>\n",
       "      <td>negative</td>\n",
       "      <td>1.0</td>\n",
       "      <td>Late Flight</td>\n",
       "      <td>0.6685</td>\n",
       "      <td>American</td>\n",
       "      <td>@AmericanAir yes starting w/ flight 1278, gett...</td>\n",
       "      <td>NaN</td>\n",
       "      <td>DonnyrMartin</td>\n",
       "      <td>NaN</td>\n",
       "      <td>0</td>\n",
       "      <td>NaN</td>\n",
       "      <td>24/2/2015 5:09</td>\n",
       "      <td>Waco, TX</td>\n",
       "      <td>Central Time (US &amp; Canada)</td>\n",
       "    </tr>\n",
       "  </tbody>\n",
       "</table>\n",
       "</div>"
      ],
      "text/plain": [
       "             tweet_id airline_sentiment  airline_sentiment_confidence  \\\n",
       "0  567778000000000000           neutral                           1.0   \n",
       "1  568644000000000000          negative                           1.0   \n",
       "2  570108000000000000          negative                           1.0   \n",
       "3  568219000000000000          negative                           1.0   \n",
       "4  570209000000000000          negative                           1.0   \n",
       "\n",
       "  negativereason  negativereason_confidence     airline  \\\n",
       "0            NaN                        NaN   Southwest   \n",
       "1    Late Flight                     0.7065  US Airways   \n",
       "2    Late Flight                     0.6405  US Airways   \n",
       "3   Lost Luggage                     1.0000  US Airways   \n",
       "4    Late Flight                     0.6685    American   \n",
       "\n",
       "                                                text airline_sentiment_gold  \\\n",
       "0  @SouthwestAir what does TSA Pre on my boarding...                    NaN   \n",
       "1  @USAirways I have been on three planes for fli...                    NaN   \n",
       "2  @USAirways yes it landed at 11:40am. Should no...                    NaN   \n",
       "3  @USAirways being told 'tough break and this is...                    NaN   \n",
       "4  @AmericanAir yes starting w/ flight 1278, gett...                    NaN   \n",
       "\n",
       "             name negativereason_gold  retweet_count tweet_coord  \\\n",
       "0        Jewelzz_                 NaN              0         NaN   \n",
       "1  CourtneyEMcCoy                 NaN              0         NaN   \n",
       "2   jakenemmasmom                 NaN              0         NaN   \n",
       "3        scheds14                 NaN              0         NaN   \n",
       "4    DonnyrMartin                 NaN              0         NaN   \n",
       "\n",
       "     tweet_created            tweet_location               user_timezone  \n",
       "0  17/2/2015 12:08                        TX             America/Chicago  \n",
       "1  19/2/2015 21:31  Williamson West Virginia  Eastern Time (US & Canada)  \n",
       "2  23/2/2015 22:30                       NaN                         NaN  \n",
       "3  18/2/2015 17:21               Phoenix, AZ                         NaN  \n",
       "4   24/2/2015 5:09                  Waco, TX  Central Time (US & Canada)  "
      ]
     },
     "execution_count": 2,
     "metadata": {},
     "output_type": "execute_result"
    }
   ],
   "source": [
    "dataset= pd.read_csv(r'G:\\4th Semester\\LFD\\Sentiment-Analysis-with-LSTM\\Sentiment Analysis with LSTM\\data\\Tweets23.csv')\n",
    "dataset = dataset.sample(frac=1).reset_index(drop=True)\n",
    "dataset.head()"
   ]
  },
  {
   "cell_type": "code",
   "execution_count": 3,
   "metadata": {},
   "outputs": [
    {
     "data": {
      "text/plain": [
       "(14640, 15)"
      ]
     },
     "execution_count": 3,
     "metadata": {},
     "output_type": "execute_result"
    }
   ],
   "source": [
    "dataset.shape"
   ]
  },
  {
   "cell_type": "code",
   "execution_count": 4,
   "metadata": {
    "scrolled": true
   },
   "outputs": [
    {
     "data": {
      "text/plain": [
       "<AxesSubplot:>"
      ]
     },
     "execution_count": 4,
     "metadata": {},
     "output_type": "execute_result"
    },
    {
     "data": {
      "image/png": "[encoded data removed]",
      "text/plain": [
       "<Figure size 432x288 with 1 Axes>"
      ]
     },
     "metadata": {
      "needs_background": "light"
     },
     "output_type": "display_data"
    }
   ],
   "source": [
    "dataset['airline'].value_counts().plot.bar() "
   ]
  },
  {
   "cell_type": "markdown",
   "metadata": {},
   "source": [
    "Fetch the data of the tweets for the airline"
   ]
  },
  {
   "cell_type": "code",
   "execution_count": 5,
   "metadata": {
    "scrolled": false
   },
   "outputs": [
    {
     "data": {
      "text/html": [
       "<div>\n",
       "<style scoped>\n",
       "    .dataframe tbody tr th:only-of-type {\n",
       "        vertical-align: middle;\n",
       "    }\n",
       "\n",
       "    .dataframe tbody tr th {\n",
       "        vertical-align: top;\n",
       "    }\n",
       "\n",
       "    .dataframe thead th {\n",
       "        text-align: right;\n",
       "    }\n",
       "</style>\n",
       "<table border=\"1\" class=\"dataframe\">\n",
       "  <thead>\n",
       "    <tr style=\"text-align: right;\">\n",
       "      <th></th>\n",
       "      <th>airline_sentiment</th>\n",
       "      <th>text</th>\n",
       "    </tr>\n",
       "  </thead>\n",
       "  <tbody>\n",
       "    <tr>\n",
       "      <th>0</th>\n",
       "      <td>neutral</td>\n",
       "      <td>@SouthwestAir what does TSA Pre on my boarding...</td>\n",
       "    </tr>\n",
       "    <tr>\n",
       "      <th>1</th>\n",
       "      <td>negative</td>\n",
       "      <td>@USAirways I have been on three planes for fli...</td>\n",
       "    </tr>\n",
       "    <tr>\n",
       "      <th>2</th>\n",
       "      <td>negative</td>\n",
       "      <td>@USAirways yes it landed at 11:40am. Should no...</td>\n",
       "    </tr>\n",
       "    <tr>\n",
       "      <th>3</th>\n",
       "      <td>negative</td>\n",
       "      <td>@USAirways being told 'tough break and this is...</td>\n",
       "    </tr>\n",
       "    <tr>\n",
       "      <th>4</th>\n",
       "      <td>negative</td>\n",
       "      <td>@AmericanAir yes starting w/ flight 1278, gett...</td>\n",
       "    </tr>\n",
       "  </tbody>\n",
       "</table>\n",
       "</div>"
      ],
      "text/plain": [
       "  airline_sentiment                                               text\n",
       "0           neutral  @SouthwestAir what does TSA Pre on my boarding...\n",
       "1          negative  @USAirways I have been on three planes for fli...\n",
       "2          negative  @USAirways yes it landed at 11:40am. Should no...\n",
       "3          negative  @USAirways being told 'tough break and this is...\n",
       "4          negative  @AmericanAir yes starting w/ flight 1278, gett..."
      ]
     },
     "execution_count": 5,
     "metadata": {},
     "output_type": "execute_result"
    }
   ],
   "source": [
    "dataset = dataset[['airline_sentiment', 'text']]\n",
    "dataset.head()"
   ]
  },
  {
   "cell_type": "markdown",
   "metadata": {},
   "source": [
    "Visualize the data\n",
    "(For text , plot according to the lenght of the texts and count of the max length"
   ]
  },
  {
   "cell_type": "code",
   "execution_count": 6,
   "metadata": {},
   "outputs": [
    {
     "data": {
      "text/plain": [
       "<AxesSubplot:ylabel='Frequency'>"
      ]
     },
     "execution_count": 6,
     "metadata": {},
     "output_type": "execute_result"
    },
    {
     "data": {
      "image/png": "[encoded data removed]",
      "text/plain": [
       "<Figure size 432x288 with 1 Axes>"
      ]
     },
     "metadata": {
      "needs_background": "light"
     },
     "output_type": "display_data"
    }
   ],
   "source": [
    "dataset['text'].str.len().plot.hist()"
   ]
  },
  {
   "cell_type": "code",
   "execution_count": 7,
   "metadata": {
    "scrolled": true
   },
   "outputs": [
    {
     "data": {
      "text/plain": [
       "negative    9178\n",
       "neutral     3099\n",
       "positive    2363\n",
       "Name: airline_sentiment, dtype: int64"
      ]
     },
     "execution_count": 7,
     "metadata": {},
     "output_type": "execute_result"
    }
   ],
   "source": [
    "dataset['airline_sentiment'].value_counts()"
   ]
  },
  {
   "cell_type": "code",
   "execution_count": 8,
   "metadata": {},
   "outputs": [
    {
     "data": {
      "text/plain": [
       "<AxesSubplot:>"
      ]
     },
     "execution_count": 8,
     "metadata": {},
     "output_type": "execute_result"
    },
    {
     "data": {
      "image/png": "[encoded data removed]",
      "text/plain": [
       "<Figure size 432x288 with 1 Axes>"
      ]
     },
     "metadata": {
      "needs_background": "light"
     },
     "output_type": "display_data"
    }
   ],
   "source": [
    "dataset['airline_sentiment'].value_counts().plot.bar(color=['blue','orange','green'])"
   ]
  },
  {
   "cell_type": "code",
   "execution_count": 9,
   "metadata": {},
   "outputs": [
    {
     "data": {
      "image/png": "[encoded data removed]",
      "text/plain": [
       "<Figure size 432x288 with 1 Axes>"
      ]
     },
     "metadata": {},
     "output_type": "display_data"
    }
   ],
   "source": [
    "\n",
    "label=['Negative','Neutral','Positive']\n",
    "plt.pie(dataset.groupby('airline_sentiment')['airline_sentiment'].count(),autopct=\"%.2f%%\",labels=label)\n",
    "plt.show()"
   ]
  },
  {
   "cell_type": "markdown",
   "metadata": {},
   "source": [
    "Data Preprocessing"
   ]
  },
  {
   "cell_type": "code",
   "execution_count": 10,
   "metadata": {},
   "outputs": [
    {
     "data": {
      "text/plain": [
       "0    southwestair what does tsa pre on my boarding ...\n",
       "1    usairways i have been on three planes for flig...\n",
       "2    usairways yes it landed at 1140am should not t...\n",
       "3    usairways being told tough break and this is h...\n",
       "4    americanair yes starting w flight 1278 getting...\n",
       "Name: text, dtype: object"
      ]
     },
     "execution_count": 10,
     "metadata": {},
     "output_type": "execute_result"
    }
   ],
   "source": [
    "# Make small letter \n",
    "dataset['text'] = dataset['text'].apply(lambda x: x.lower())\n",
    "#remove special character and keep number and character with space\n",
    "dataset['text'] = dataset['text'].apply(lambda x: re.sub('[^a-zA-Z0-9\\s]', \"\", x))\n",
    "dataset['text'].head()"
   ]
  },
  {
   "cell_type": "markdown",
   "metadata": {},
   "source": [
    "Tokenization"
   ]
  },
  {
   "cell_type": "code",
   "execution_count": 11,
   "metadata": {
    "scrolled": true
   },
   "outputs": [
    {
     "data": {
      "text/plain": [
       "array([[   0,    0,    0,    0,    0,    0,    0,    0,    0,    0,    0,\n",
       "           0,    0,    0,    0,    0,    0,    0,    0,    0,    0,    0,\n",
       "           0,   16,   57,  207,  691, 1427,    9,   11,  211,  370,  563],\n",
       "       [   0,    0,    0,    0,    0,    0,    0,    0,    0,    0,    0,\n",
       "           0,    0,    0,    0,   12,    3,   22,   45,    9,  482,  346,\n",
       "           7,    8,   10,   72,  340,  222,    2,  410,  208,   42,  729],\n",
       "       [   0,    0,    0,    0,    0,    0,    0,    0,    0,   12,  167,\n",
       "          20,  429,   27, 4598,  120,   24,  148,  143,  396,   56,    1,\n",
       "         128,  495,  213,  674,   23, 3092,    3,   76,   22,   29,   93],\n",
       "       [   0,    0,    0,    0,    0,    0,    0,    0,    0,   12,  195,\n",
       "         147, 1428, 1311,   10,   29,   14,   63,   20,   14,   14,  390,\n",
       "           6,   70,  136,  266,   19,   58,   11,  142,   49,   32,  141],\n",
       "       [   0,    0,    0,    0,    0,    0,    0,    0,    0,    0,    0,\n",
       "           0,    0,    0,    0,    0,    0,   13,  167, 1256,  250,    8,\n",
       "         159,   19,  135,   99,  157, 2223,   56,   96,  238,  743, 1508],\n",
       "       [   0,    0,    0,    0,    0,    0,    0,    0,    0,    0,    0,\n",
       "          13, 3093,    1,   11, 1429, 2224,  216,   22,   19, 3665,   15,\n",
       "           2,  260,    3,   23,  159, 2718,  634, 1257,   20,   51,  730],\n",
       "       [   0,    0,    0,    0,    0,    0,    0,    0,    0,    0,   13,\n",
       "        4599,  194,  216,  473,   94,  658,    1,  127,  659,  285,   86,\n",
       "         214,   86,    2, 3094,  510,   61,  659, 1312, 2719,    2,  239]])"
      ]
     },
     "execution_count": 11,
     "metadata": {},
     "output_type": "execute_result"
    }
   ],
   "source": [
    "#convert the text into 5000 most frequent words\n",
    "# each word is represented by a unique integer. \n",
    "tokenizer = Tokenizer(num_words = 5000, split = \" \")\n",
    "tokenizer.fit_on_texts(dataset['text'].values)\n",
    "#for single word text\n",
    "X = tokenizer.texts_to_sequences(dataset['text'].values)\n",
    "#to make same length\n",
    "X = pad_sequences(X)\n",
    "X[:7]\n"
   ]
  },
  {
   "cell_type": "markdown",
   "metadata": {},
   "source": [
    "Create Model"
   ]
  },
  {
   "cell_type": "code",
   "execution_count": 12,
   "metadata": {
    "scrolled": false
   },
   "outputs": [
    {
     "data": {
      "text/plain": [
       "(14640, 33)"
      ]
     },
     "execution_count": 12,
     "metadata": {},
     "output_type": "execute_result"
    }
   ],
   "source": [
    "#totaldataset\n",
    "X.shape"
   ]
  },
  {
   "cell_type": "markdown",
   "metadata": {},
   "source": [
    "Classifier Algorithm"
   ]
  },
  {
   "cell_type": "code",
   "execution_count": 13,
   "metadata": {
    "scrolled": true
   },
   "outputs": [],
   "source": [
    "model =Sequential()\n",
    "#convert the integer encoded data in a 256 lenght vector\n",
    "model.add(Embedding(5000, 256, input_length = X.shape[1]))\n",
    "#prevents overfitting and drop random layer \n",
    "model.add(Dropout(0.3))\n",
    "model.add(Bidirectional(LSTM(32)))\n",
    "model.add(Dropout(0.3))\n",
    "#we need to represent data as vectors\n",
    "model.add(Dense(3, activation = 'softmax'))\n",
    "\n"
   ]
  },
  {
   "cell_type": "code",
   "execution_count": 14,
   "metadata": {
    "scrolled": true
   },
   "outputs": [
    {
     "name": "stdout",
     "output_type": "stream",
     "text": [
      "Model: \"sequential\"\n",
      "_________________________________________________________________\n",
      " Layer (type)                Output Shape              Param #   \n",
      "=================================================================\n",
      " embedding (Embedding)       (None, 33, 256)           1280000   \n",
      "                                                                 \n",
      " dropout (Dropout)           (None, 33, 256)           0         \n",
      "                                                                 \n",
      " bidirectional (Bidirectiona  (None, 64)               73984     \n",
      " l)                                                              \n",
      "                                                                 \n",
      " dropout_1 (Dropout)         (None, 64)                0         \n",
      "                                                                 \n",
      " dense (Dense)               (None, 3)                 195       \n",
      "                                                                 \n",
      "=================================================================\n",
      "Total params: 1,354,179\n",
      "Trainable params: 1,354,179\n",
      "Non-trainable params: 0\n",
      "_________________________________________________________________\n"
     ]
    }
   ],
   "source": [
    "model.compile(loss = 'categorical_crossentropy', optimizer = 'adam', metrics = ['accuracy'])\n",
    "model.summary()"
   ]
  },
  {
   "cell_type": "code",
   "execution_count": 15,
   "metadata": {},
   "outputs": [
    {
     "name": "stdout",
     "output_type": "stream",
     "text": [
      "neutral [0 1 0]\n",
      "negative [1 0 0]\n",
      "negative [1 0 0]\n",
      "negative [1 0 0]\n",
      "negative [1 0 0]\n",
      "negative [1 0 0]\n",
      "positive [0 0 1]\n"
     ]
    },
    {
     "data": {
      "text/plain": [
       "[None, None, None, None, None, None, None]"
      ]
     },
     "execution_count": 15,
     "metadata": {},
     "output_type": "execute_result"
    }
   ],
   "source": [
    "#used for data manipulation.It converts categorical data into dummy or indicator variables\n",
    "y = pd.get_dummies(dataset['airline_sentiment']).values\n",
    "[print(dataset['airline_sentiment'][i], y[i]) for i in range(0,7)]"
   ]
  },
  {
   "cell_type": "code",
   "execution_count": 16,
   "metadata": {},
   "outputs": [
    {
     "name": "stdout",
     "output_type": "stream",
     "text": [
      "Train:          (10577, 33) (10577, 3)\n",
      "Validation Set: (1867, 33) (1867, 3)\n",
      "Test Set:       (2196, 33) (2196, 3)\n"
     ]
    }
   ],
   "source": [
    "# Split the data\n",
    "X_train, X_test, y_train, y_test = train_test_split(X, y, test_size = 0.15, random_state = 0)\n",
    "X_train, X_vld, y_train, y_vld = train_test_split(X_train, y_train, test_size=0.15, random_state= 0)\n",
    "\n",
    "print('Train:         ', X_train.shape, y_train.shape)\n",
    "print('Validation Set:', X_vld.shape, y_vld.shape)\n",
    "print('Test Set:      ', X_test.shape, y_test.shape)"
   ]
  },
  {
   "cell_type": "code",
   "execution_count": 17,
   "metadata": {},
   "outputs": [],
   "source": [
    "checkpoint_filepath = os.getcwd()\n",
    "model_checkpoint_callback = ModelCheckpoint(filepath=checkpoint_filepath, save_weights_only=False, monitor='val_loss', mode='min', save_best_only=True)\n",
    "callbacks = [EarlyStopping(patience=2), model_checkpoint_callback]"
   ]
  },
  {
   "cell_type": "markdown",
   "metadata": {},
   "source": [
    "Model Training"
   ]
  },
  {
   "cell_type": "code",
   "execution_count": 18,
   "metadata": {
    "scrolled": true
   },
   "outputs": [
    {
     "name": "stdout",
     "output_type": "stream",
     "text": [
      "Epoch 1/5\n",
      "166/166 - 13s - loss: 0.9351 - accuracy: 0.6946 - val_loss: 0.6911 - val_accuracy: 0.7761 - 13s/epoch - 78ms/step\n",
      "Epoch 2/5\n",
      "166/166 - 8s - loss: 0.5852 - accuracy: 0.8222 - val_loss: 0.6065 - val_accuracy: 0.8002 - 8s/epoch - 47ms/step\n",
      "Epoch 3/5\n",
      "166/166 - 8s - loss: 0.4644 - accuracy: 0.8619 - val_loss: 0.5827 - val_accuracy: 0.8099 - 8s/epoch - 50ms/step\n",
      "Epoch 4/5\n",
      "166/166 - 8s - loss: 0.3881 - accuracy: 0.8878 - val_loss: 0.5910 - val_accuracy: 0.7970 - 8s/epoch - 49ms/step\n",
      "Epoch 5/5\n",
      "166/166 - 9s - loss: 0.3393 - accuracy: 0.9045 - val_loss: 0.6156 - val_accuracy: 0.7997 - 9s/epoch - 54ms/step\n"
     ]
    }
   ],
   "source": [
    "#fit() is for training the model with the given inputs \n",
    "batch_size = 64\n",
    "epochs = 5\n",
    "history=model.fit(X_train,y_train,validation_data=(X_vld, y_vld) ,epochs = epochs, batch_size = batch_size, verbose = 2)"
   ]
  },
  {
   "cell_type": "markdown",
   "metadata": {
    "scrolled": true
   },
   "source": [
    "Evaluate the model"
   ]
  },
  {
   "cell_type": "code",
   "execution_count": 19,
   "metadata": {},
   "outputs": [
    {
     "name": "stdout",
     "output_type": "stream",
     "text": [
      "Accuracy for Test: 78.87%\n",
      "Accuracy for Train: 93.21%\n",
      "Accuracy for Validation: 79.97%\n"
     ]
    }
   ],
   "source": [
    "score_test = model.evaluate(X_test, y_test, verbose=0)\n",
    "score_train = model.evaluate(X_train, y_train, verbose=0)\n",
    "score_val = model.evaluate(X_vld, y_vld, verbose=0)\n",
    "\n",
    "# Print metrics\n",
    "print(\"Accuracy for Test: %.2f%%\" % (score_test[1]*100)) \n",
    "print(\"Accuracy for Train: %.2f%%\" % (score_train[1]*100))\n",
    "print(\"Accuracy for Validation: %.2f%%\" % (score_val[1]*100))\n",
    "#print('Test loss:', score[0]) "
   ]
  },
  {
   "cell_type": "code",
   "execution_count": 20,
   "metadata": {
    "scrolled": true
   },
   "outputs": [
    {
     "data": {
      "image/png": "[encoded data removed]",
      "text/plain": [
       "<Figure size 432x288 with 2 Axes>"
      ]
     },
     "metadata": {
      "needs_background": "light"
     },
     "output_type": "display_data"
    }
   ],
   "source": [
    "# plot loss during training\n",
    "\n",
    "pyplot.subplot(211)\n",
    "#pyplot.title('Loss')\n",
    "pyplot.plot(history.history['loss'], label='train_loss')\n",
    "pyplot.plot(history.history['val_loss'], label='test_loss')\n",
    "pyplot.legend()\n",
    "# plot accuracy during training\n",
    "\n",
    "pyplot.subplot(212)\n",
    "#pyplot.title('Accuracy')\n",
    "plt.xlabel('Epochs')\n",
    "pyplot.plot(history.history['accuracy'], label='train_accuracy')\n",
    "pyplot.plot(history.history['val_accuracy'], label='test_accuracy')\n",
    "pyplot.legend()\n",
    "pyplot.show()"
   ]
  },
  {
   "cell_type": "code",
   "execution_count": 21,
   "metadata": {},
   "outputs": [
    {
     "name": "stdout",
     "output_type": "stream",
     "text": [
      "69/69 [==============================] - 2s 11ms/step\n",
      "southwestair what does tsa pre on my boarding pass mean httptco0hmmqczkcf [9.9496764e-01 4.4965846e-03 5.3578761e-04] [1 0 0]\n",
      "usairways i have been on three planes for flight 1907 and still havent left the ground bad service sad [0.974842   0.02071538 0.00444265] [0 1 0]\n",
      "usairways yes it landed at 1140am should not take another 12 hours to go 40 min drive was assured i would have this am [0.90633714 0.06816345 0.02549945] [1 0 0]\n",
      "usairways being told tough break and this is how it is is unacceptable you cant even tell me when my bags will be here [0.06643732 0.16674848 0.7668142 ] [0 0 1]\n",
      "americanair yes starting w flight 1278 getting me home more than 48 hours late flightr record locator bsuxlu [9.976131e-01 1.957512e-03 4.293805e-04] [1 0 0]\n",
      "americanair derekc21  to my surprise  ba doesnt  have  me registered in the system  i was getting hopeful  lets step it up  okay  [0.14037344 0.08410043 0.77552617] [1 0 0]\n",
      "americanair robertdwyer aa doesnt charge any fees to change award tickets as long as the origin destination amp award type remains the same [0.01589826 0.16965017 0.8144515 ] [0 1 0]\n",
      "usairways sadly that didnt help me at my meeting at work today seeing as my presentation was in there major strike against me [9.9705243e-01 2.3739708e-03 5.7362037e-04] [1 0 0]\n",
      "southwestair any chance the flight i just took can count for 3 i mean i signed up with sw wifi in the air 22 [0.29683122 0.6878591  0.01530967] [0 1 0]\n",
      "united no they arent  i just called to check worstcustomerservice [0.98664737 0.01042383 0.00292884] [1 0 0]\n"
     ]
    },
    {
     "data": {
      "text/plain": [
       "[None, None, None, None, None, None, None, None, None, None]"
      ]
     },
     "execution_count": 21,
     "metadata": {},
     "output_type": "execute_result"
    }
   ],
   "source": [
    "prediction = model.predict(X_test)\n",
    "[print(dataset['text'][i], prediction[i], y_test[i]) for i in range(0, 10)]"
   ]
  },
  {
   "cell_type": "markdown",
   "metadata": {},
   "source": [
    "Evaluating the Performance: AUC Score"
   ]
  },
  {
   "cell_type": "code",
   "execution_count": 22,
   "metadata": {},
   "outputs": [
    {
     "name": "stdout",
     "output_type": "stream",
     "text": [
      "auc_lstm  : 0.8942\n"
     ]
    }
   ],
   "source": [
    "auc_lstm = roc_auc_score(y_test, prediction)\n",
    "auc_lstm\n",
    "print('auc_lstm  : {:.4f}'.format(auc_lstm))"
   ]
  },
  {
   "cell_type": "code",
   "execution_count": 23,
   "metadata": {
    "scrolled": false
   },
   "outputs": [
    {
     "name": "stdout",
     "output_type": "stream",
     "text": [
      "69/69 [==============================] - 1s 11ms/step\n"
     ]
    },
    {
     "data": {
      "image/png": "[encoded data removed]",
      "text/plain": [
       "<Figure size 576x432 with 2 Axes>"
      ]
     },
     "metadata": {
      "needs_background": "light"
     },
     "output_type": "display_data"
    }
   ],
   "source": [
    "def plot_confusion_matrix(model, X_test, y_test):\n",
    "    \n",
    "    sentiment_classes = ['Negative', 'Neutral', 'Positive']\n",
    "    y_pred = model.predict(X_test)\n",
    "    cm = confusion_matrix(np.argmax(np.array(y_test),axis=1), np.argmax(y_pred, axis=1))\n",
    "    plt.figure(figsize=(8,6))\n",
    "    sns.heatmap(cm, cmap=plt.cm.Reds, annot=True, fmt='d', \n",
    "                xticklabels=sentiment_classes,\n",
    "                yticklabels=sentiment_classes)\n",
    "    plt.title('Confusion matrix', fontsize=16)\n",
    "    plt.xlabel('Actual label', fontsize=12)\n",
    "    plt.ylabel('Predicted label', fontsize=12)\n",
    "    \n",
    "plot_confusion_matrix(model, X_test, y_test)"
   ]
  },
  {
   "cell_type": "code",
   "execution_count": 24,
   "metadata": {},
   "outputs": [
    {
     "name": "stdout",
     "output_type": "stream",
     "text": [
      "69/69 [==============================] - 1s 11ms/step\n"
     ]
    }
   ],
   "source": [
    "y_pred = model.predict(X_test)\n",
    "#Returns the indices of the maximum values along an axis\n",
    "y_pred = np.argmax(y_pred, axis=1)\n"
   ]
  },
  {
   "cell_type": "code",
   "execution_count": 25,
   "metadata": {},
   "outputs": [],
   "source": [
    "#used for data manipulation.It converts categorical data into dummy or indicator variables\n",
    "y_pred_enc = pd.get_dummies(y_pred)\n",
    "#y_test_enc = np.argmax(np.array(y_test),axis=1)"
   ]
  },
  {
   "cell_type": "code",
   "execution_count": 27,
   "metadata": {},
   "outputs": [
    {
     "name": "stdout",
     "output_type": "stream",
     "text": [
      "              precision    recall  f1-score   support\n",
      "\n",
      "           0       0.84      0.91      0.87      1383\n",
      "           1       0.63      0.53      0.58       460\n",
      "           2       0.74      0.66      0.70       353\n",
      "\n",
      "   micro avg       0.79      0.79      0.79      2196\n",
      "   macro avg       0.74      0.70      0.72      2196\n",
      "weighted avg       0.78      0.79      0.78      2196\n",
      " samples avg       0.79      0.79      0.79      2196\n",
      "\n"
     ]
    }
   ],
   "source": [
    "print(classification_report(y_test,y_pred_enc))"
   ]
  }
 ],
 "metadata": {
  "kernelspec": {
   "display_name": "Python 3",
   "language": "python",
   "name": "python3"
  },
  "language_info": {
   "codemirror_mode": {
    "name": "ipython",
    "version": 3
   },
   "file_extension": ".py",
   "mimetype": "text/x-python",
   "name": "python",
   "nbconvert_exporter": "python",
   "pygments_lexer": "ipython3",
   "version": "3.8.5"
  }
 },
 "nbformat": 4,
 "nbformat_minor": 5
}
